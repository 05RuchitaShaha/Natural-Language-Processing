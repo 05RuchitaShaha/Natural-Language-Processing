{
 "cells": [
  {
   "cell_type": "code",
   "execution_count": 1,
   "id": "88190e26",
   "metadata": {},
   "outputs": [],
   "source": [
    "import warnings\n",
    "warnings.filterwarnings(\"ignore\")"
   ]
  },
  {
   "cell_type": "code",
   "execution_count": 2,
   "id": "303d3a59",
   "metadata": {},
   "outputs": [],
   "source": [
    "from nltk.corpus import stopwords\n",
    "from nltk.cluster.util import cosine_distance\n",
    "import numpy as np\n",
    "import networkx as nx"
   ]
  },
  {
   "cell_type": "code",
   "execution_count": 5,
   "id": "0d27723f",
   "metadata": {},
   "outputs": [],
   "source": [
    "from strgen import StringGenerator"
   ]
  },
  {
   "cell_type": "code",
   "execution_count": 7,
   "id": "059a9b11",
   "metadata": {},
   "outputs": [],
   "source": [
    "def read_article(file_name):\n",
    "    file = open(file_name, \"r\", encoding='utf-8')\n",
    "    filedata = file.readlines()\n",
    "    article = filedata[0].split(\". \")\n",
    "    sentences = []\n",
    "\n",
    "    for sentence in article:\n",
    "        print(sentence)\n",
    "        sentences.append(sentence.replace(\"[^a-zA-Z]\", \" \").split(\" \"))\n",
    "    sentences.pop() \n",
    "    \n",
    "    return sentences\n",
    "\n",
    "def sentence_similarity(sent1, sent2, stopwords=None):\n",
    "    if stopwords is None:\n",
    "        stopwords = []\n",
    " \n",
    "    sent1 = [w.lower() for w in sent1]\n",
    "    sent2 = [w.lower() for w in sent2]\n",
    " \n",
    "    all_words = list(set(sent1 + sent2))\n",
    " \n",
    "    vector1 = [0] * len(all_words)\n",
    "    vector2 = [0] * len(all_words)\n",
    " \n",
    "    # build the vector for the first sentence\n",
    "    for w in sent1:\n",
    "        if w in stopwords:\n",
    "            continue\n",
    "        vector1[all_words.index(w)] += 1\n",
    " \n",
    "    # build the vector for the second sentence\n",
    "    for w in sent2:\n",
    "        if w in stopwords:\n",
    "            continue\n",
    "        vector2[all_words.index(w)] += 1\n",
    " \n",
    "    return 1 - cosine_distance(vector1, vector2)\n",
    " \n",
    "def build_similarity_matrix(sentences, stop_words):\n",
    "    # Create an empty similarity matrix\n",
    "    similarity_matrix = np.zeros((len(sentences), len(sentences)))\n",
    " \n",
    "    for idx1 in range(len(sentences)):\n",
    "        for idx2 in range(len(sentences)):\n",
    "            if idx1 == idx2: #ignore if both are same sentences\n",
    "                continue \n",
    "            similarity_matrix[idx1][idx2] = sentence_similarity(sentences[idx1], sentences[idx2], stop_words)\n",
    "\n",
    "    return similarity_matrix\n",
    "\n",
    "\n",
    "def generate_summary(file_name, top_n=5):\n",
    "    stop_words = stopwords.words('english')\n",
    "    summarize_text = []\n",
    "\n",
    "    # Step 1 - Read text anc split it\n",
    "    sentences =  read_article(file_name)\n",
    "\n",
    "    # Step 2 - Generate Similary Martix across sentences\n",
    "    sentence_similarity_martix = build_similarity_matrix(sentences, stop_words)\n",
    "\n",
    "    # Step 3 - Rank sentences in similarity martix\n",
    "    sentence_similarity_graph = nx.from_numpy_array(sentence_similarity_martix)\n",
    "    scores = nx.pagerank(sentence_similarity_graph)\n",
    "\n",
    "    # Step 4 - Sort the rank and pick top sentences\n",
    "    ranked_sentence = sorted(((scores[i],s) for i,s in enumerate(sentences)), reverse=True)    \n",
    "    print(\"Indexes of top ranked_sentence order are \", ranked_sentence)    \n",
    "\n",
    "    for i in range(top_n):\n",
    "        summarize_text.append(\" \".join(ranked_sentence[i][1]))\n",
    "\n",
    "    # Step 5 - Offcourse, output the summarize texr\n",
    "    print(\"Summarize Text: \\n\", \". \".join(summarize_text))"
   ]
  },
  {
   "cell_type": "code",
   "execution_count": 9,
   "id": "9552a26e",
   "metadata": {},
   "outputs": [
    {
     "name": "stdout",
     "output_type": "stream",
     "text": [
      "What is animation? Animation is a method of photographing successive drawings, models, or even puppets, to create an illusion of movement in a sequence\n",
      "Because our eyes can only retain an image for approximately one-tenth of a second, when multiple images appear in fast succession, the brain blends them into a single moving image\n",
      "In traditional animation, pictures are drawn or painted on transparent celluloid sheets to be photographed\n",
      "Early cartoons are examples of this, but today, most animated movies are made with computer-generated imagery or CGI\n",
      "To create the appearance of smooth motion from these drawn, painted, or computer-generated images, frame rate, or the number of consecutive images that are displayed each second, is considered\n",
      "Moving characters are usually shot “on twos” which just means one image is shown for two frames, totaling in at 12 drawings per second\n",
      "12 frames per second allows for motion but may look choppy\n",
      "In the film, a frame rate of 24 frames per second is often used for smooth motion\n",
      "Different Types of Animation: Traditional Animation, Rotoscoping, Anime, Cutout, 3D Animation, Stop Motion, Motion graphics\n",
      "Traditional is most often 2D animation\n",
      "Aladdin, The Lion King, and other earlier cartoons are the best examples of this\n",
      "In the earlier years, the animator would draw on a table that had a light inside of it, so the creator could see his or her previous animation\n",
      "While the traditional style is not nearly as prevalent today, drawings are generally done on tablets\n",
      "And manual coloring hasn’t been used by Disney since The Little Mermaid in 1989\n",
      "\n",
      "Indexes of top ranked_sentence order are  [(0.13399326669382677, ['In', 'the', 'film,', 'a', 'frame', 'rate', 'of', '24', 'frames', 'per', 'second', 'is', 'often', 'used', 'for', 'smooth', 'motion']), (0.1123045673351274, ['Traditional', 'is', 'most', 'often', '2D', 'animation']), (0.09613177408504248, ['12', 'frames', 'per', 'second', 'allows', 'for', 'motion', 'but', 'may', 'look', 'choppy']), (0.08380603651088231, ['Different', 'Types', 'of', 'Animation:', 'Traditional', 'Animation,', 'Rotoscoping,', 'Anime,', 'Cutout,', '3D', 'Animation,', 'Stop', 'Motion,', 'Motion', 'graphics']), (0.08254492871295971, ['To', 'create', 'the', 'appearance', 'of', 'smooth', 'motion', 'from', 'these', 'drawn,', 'painted,', 'or', 'computer-generated', 'images,', 'frame', 'rate,', 'or', 'the', 'number', 'of', 'consecutive', 'images', 'that', 'are', 'displayed', 'each', 'second,', 'is', 'considered']), (0.0804942765484776, ['Moving', 'characters', 'are', 'usually', 'shot', '“on', 'twos”', 'which', 'just', 'means', 'one', 'image', 'is', 'shown', 'for', 'two', 'frames,', 'totaling', 'in', 'at', '12', 'drawings', 'per', 'second']), (0.07134805996835956, ['While', 'the', 'traditional', 'style', 'is', 'not', 'nearly', 'as', 'prevalent', 'today,', 'drawings', 'are', 'generally', 'done', 'on', 'tablets']), (0.0673941629524405, ['In', 'traditional', 'animation,', 'pictures', 'are', 'drawn', 'or', 'painted', 'on', 'transparent', 'celluloid', 'sheets', 'to', 'be', 'photographed']), (0.06220316634635596, ['Early', 'cartoons', 'are', 'examples', 'of', 'this,', 'but', 'today,', 'most', 'animated', 'movies', 'are', 'made', 'with', 'computer-generated', 'imagery', 'or', 'CGI']), (0.05419113976939359, ['Aladdin,', 'The', 'Lion', 'King,', 'and', 'other', 'earlier', 'cartoons', 'are', 'the', 'best', 'examples', 'of', 'this']), (0.0490262994851993, ['In', 'the', 'earlier', 'years,', 'the', 'animator', 'would', 'draw', 'on', 'a', 'table', 'that', 'had', 'a', 'light', 'inside', 'of', 'it,', 'so', 'the', 'creator', 'could', 'see', 'his', 'or', 'her', 'previous', 'animation']), (0.04340458648399349, ['What', 'is', 'animation?', 'Animation', 'is', 'a', 'method', 'of', 'photographing', 'successive', 'drawings,', 'models,', 'or', 'even', 'puppets,', 'to', 'create', 'an', 'illusion', 'of', 'movement', 'in', 'a', 'sequence']), (0.0420472257501867, ['Because', 'our', 'eyes', 'can', 'only', 'retain', 'an', 'image', 'for', 'approximately', 'one-tenth', 'of', 'a', 'second,', 'when', 'multiple', 'images', 'appear', 'in', 'fast', 'succession,', 'the', 'brain', 'blends', 'them', 'into', 'a', 'single', 'moving', 'image']), (0.02111050935775472, ['And', 'manual', 'coloring', 'hasn’t', 'been', 'used', 'by', 'Disney', 'since', 'The', 'Little', 'Mermaid', 'in', '1989'])]\n",
      "Summarize Text: \n",
      " In the film, a frame rate of 24 frames per second is often used for smooth motion. Traditional is most often 2D animation\n"
     ]
    }
   ],
   "source": [
    "generate_summary(\"G:\\\\SEM 6\\\\Mini Project - II\\\\animation.txt\", 2)"
   ]
  }
 ],
 "metadata": {
  "kernelspec": {
   "display_name": "Python 3 (ipykernel)",
   "language": "python",
   "name": "python3"
  },
  "language_info": {
   "codemirror_mode": {
    "name": "ipython",
    "version": 3
   },
   "file_extension": ".py",
   "mimetype": "text/x-python",
   "name": "python",
   "nbconvert_exporter": "python",
   "pygments_lexer": "ipython3",
   "version": "3.9.7"
  }
 },
 "nbformat": 4,
 "nbformat_minor": 5
}
